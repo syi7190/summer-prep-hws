{
 "cells": [
  {
   "cell_type": "markdown",
   "metadata": {},
   "source": [
    "# List Overlap \n",
    "Write a program that returns a list that contains only the elements that are common between the lists (without duplicates). Make sure your program works on two lists of different sizes."
   ]
  },
  {
   "cell_type": "code",
   "execution_count": 1,
   "metadata": {},
   "outputs": [
    {
     "name": "stdout",
     "output_type": "stream",
     "text": [
      "[1, 2, 3, 5, 8, 13]\n"
     ]
    }
   ],
   "source": [
    "a = [1, 1, 2, 3, 5, 8, 13, 21, 34, 55, 89]\n",
    "b = [1, 2, 3, 4, 5, 6, 7, 8, 9, 10, 11, 12, 13]\n",
    "c = []\n",
    "\n",
    "for elements in a:\n",
    "    if (elements in b) and (elements not in c):\n",
    "        c.append(elements)\n",
    "print(c)\n"
   ]
  },
  {
   "cell_type": "markdown",
   "metadata": {},
   "source": [
    "# Rock Paper Scissors\n",
    "\n",
    "Make a two-player Rock-Paper-Scissors game. (Hint: Ask for player plays (using input), compare them, print out a message of congratulations to the winner.)\n",
    "\n",
    "Remember the rules:\n",
    "\n",
    "* Rock beats scissors\n",
    "* Scissors beats paper\n",
    "* Paper beats rock"
   ]
  },
  {
   "cell_type": "code",
   "execution_count": 2,
   "metadata": {},
   "outputs": [
    {
     "name": "stdout",
     "output_type": "stream",
     "text": [
      "Player 1(R/P/S): \n",
      "R\n",
      "Player 2(R/P/S): \n",
      "P\n",
      "Congratulations Player 2, you win!\n"
     ]
    }
   ],
   "source": [
    "print('Player 1(R/P/S): ')\n",
    "player1 = input()\n",
    "print('Player 2(R/P/S): ')\n",
    "player2 = input()\n",
    "\n",
    "if player1 == player2:\n",
    "    print('Tie')\n",
    "elif (player1 == 'R' and player2 == 'P') or (player1 == 'P' and player2 == 'S') or (player1 == 'S' and player2 == 'R'):\n",
    "    print('Congratulations Player 2, you win!')\n",
    "else:\n",
    "    print('Congratulations Player 1, you win!')"
   ]
  },
  {
   "cell_type": "markdown",
   "metadata": {},
   "source": [
    "# Palindrome \n",
    "\n",
    "Ask the user for a string and print out whether this string is a palindrome or not. (A palindrome is a string that reads the same forwards and backwards.)"
   ]
  },
  {
   "cell_type": "code",
   "execution_count": 13,
   "metadata": {},
   "outputs": [
    {
     "name": "stdout",
     "output_type": "stream",
     "text": [
      "Enter a String: \n",
      "racecar\n",
      "rac rac\n",
      "This string is a palindrome.\n"
     ]
    }
   ],
   "source": [
    "print('Enter a String: ')\n",
    "pstring = input()\n",
    "halfwayindex = int(len(pstring)/2 - 1)\n",
    "if len(pstring)%2 == 0:\n",
    "    fhalf = pstring[:halfwayindex+1]\n",
    "    lhalf = pstring[:halfwayindex:-1]\n",
    "    if fhalf == lhalf:\n",
    "        print('This string is a palindrome.')\n",
    "    else:\n",
    "        print('This string is not a palindrome.')\n",
    "else:\n",
    "    fhalf = pstring[:halfwayindex+1]\n",
    "    lhalf = pstring[:halfwayindex+1:-1]\n",
    "    #print(fhalf,lhalf)\n",
    "    if fhalf == lhalf:\n",
    "        print('This string is a palindrome.')\n",
    "    else:\n",
    "        print('This string is not a palindrome.')"
   ]
  },
  {
   "cell_type": "markdown",
   "metadata": {},
   "source": [
    "# Password Generator\n",
    "Write a password generator in Python. Be creative with how you generate passwords - strong passwords have a mix of lowercase letters, uppercase letters, numbers, and symbols. The passwords should be random.  Ask the user to input how long they want their password to be. "
   ]
  },
  {
   "cell_type": "code",
   "execution_count": 18,
   "metadata": {},
   "outputs": [
    {
     "name": "stdout",
     "output_type": "stream",
     "text": [
      "How long do you want your password to be?\n",
      "25\n",
      "ZFvRzI?For*8)ZSjWSA9EDfB6\n"
     ]
    }
   ],
   "source": [
    "import random\n",
    "chars = \"abcdefghijklmnopqrstuvwxyz01234567890ABCDEFGHIJKLMNOPQRSTUVWXYZ!@#$%^&*()?\"\n",
    "\n",
    "newpass = ''\n",
    "print('How long do you want your password to be?')\n",
    "passlen = int(input())\n",
    "for x in range(passlen):\n",
    "    randomchar = chars[random.randint(0,len(chars)-1)]\n",
    "    newpass += str(randomchar)\n",
    "print(newpass)\n"
   ]
  },
  {
   "cell_type": "markdown",
   "metadata": {},
   "source": [
    "# Divisors Solutions\n",
    "\n",
    "Create a program that asks the user for a number and then prints out a list of all the divisors of that number. (If you don’t know what a divisor is, it is a number that divides evenly into another number. For example, 13 is a divisor of 26 because 26 / 13 has no remainder.)"
   ]
  },
  {
   "cell_type": "code",
   "execution_count": 22,
   "metadata": {},
   "outputs": [
    {
     "name": "stdout",
     "output_type": "stream",
     "text": [
      "Enter a Number: \n",
      "54\n",
      "[1, 2, 3, 6, 9, 18, 27, 54]\n"
     ]
    }
   ],
   "source": [
    "print('Enter a Number: ')\n",
    "num = int(input())\n",
    "divisors = []\n",
    "for x in range(int(num/2)+1):\n",
    "    if x == 0:\n",
    "        continue\n",
    "    elif num%x == 0:\n",
    "        divisors.append(x)\n",
    "divisors.append(num)\n",
    "\n",
    "print(divisors)"
   ]
  },
  {
   "cell_type": "markdown",
   "metadata": {},
   "source": [
    "# Missing Character\n",
    "Given a non-empty string and an int n, return a new string where the char at index n has been removed. The value of n will be a valid index of a char in the original string (i.e. n will be in the range 0..len(str)-1 inclusive).\n",
    "\n",
    "```\n",
    "missing_char('kitten', 1) → 'ktten'\n",
    "missing_char('kitten', 0) → 'itten'\n",
    "missing_char('kitten', 4) → 'kittn'\n",
    "\n",
    "```"
   ]
  },
  {
   "cell_type": "code",
   "execution_count": 25,
   "metadata": {},
   "outputs": [
    {
     "data": {
      "text/plain": [
       "'kittn'"
      ]
     },
     "execution_count": 25,
     "metadata": {},
     "output_type": "execute_result"
    }
   ],
   "source": [
    "def missing_char(word, n):\n",
    "    newword = ''\n",
    "    newword += word[:n]\n",
    "    newword += word[n+1:]\n",
    "    return(newword)\n",
    "\n",
    "missing_char('kitten', 4)"
   ]
  },
  {
   "cell_type": "markdown",
   "metadata": {},
   "source": [
    "# Centered Average\n",
    "\n",
    "Return the \"centered\" average of an array of ints, which we'll say is the mean average of the values, except ignoring the largest and smallest values in the array. If there are multiple copies of the smallest value, ignore just one copy, and likewise for the largest value.  You may assume that the array is length 3 or more and will never contain negative values. \n",
    "* Round your answer to the nearest whole number.\n",
    "\n",
    "```\n",
    "centered_average([1, 2, 3, 4, 100]) → 3\n",
    "centered_average([1, 1, 5, 5, 10, 8, 7]) → 5\n",
    "```"
   ]
  },
  {
   "cell_type": "code",
   "execution_count": 62,
   "metadata": {},
   "outputs": [],
   "source": [
    "example_list = [100, 100, 50, 75, 50, 25, 25, 25]\n",
    "def centered_average(alist):\n",
    "    alist.sort()\n",
    "    list_len = len(alist)-1\n",
    "    new_list = alist[1:list_len]\n",
    "    return new_list[int(list_len/2)-1]\n"
   ]
  },
  {
   "cell_type": "code",
   "execution_count": 63,
   "metadata": {},
   "outputs": [
    {
     "data": {
      "text/plain": [
       "50"
      ]
     },
     "execution_count": 63,
     "metadata": {},
     "output_type": "execute_result"
    }
   ],
   "source": [
    "centered_average(example_list)"
   ]
  },
  {
   "cell_type": "code",
   "execution_count": null,
   "metadata": {},
   "outputs": [],
   "source": []
  }
 ],
 "metadata": {
  "kernelspec": {
   "display_name": "Python 3 (ipykernel)",
   "language": "python",
   "name": "python3"
  },
  "language_info": {
   "codemirror_mode": {
    "name": "ipython",
    "version": 3
   },
   "file_extension": ".py",
   "mimetype": "text/x-python",
   "name": "python",
   "nbconvert_exporter": "python",
   "pygments_lexer": "ipython3",
   "version": "3.11.3"
  }
 },
 "nbformat": 4,
 "nbformat_minor": 4
}
